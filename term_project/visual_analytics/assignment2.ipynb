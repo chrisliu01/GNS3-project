{
  "nbformat": 4,
  "nbformat_minor": 0,
  "metadata": {
    "colab": {
      "name": "assignment2.ipynb",
      "provenance": [],
      "collapsed_sections": [],
      "authorship_tag": "ABX9TyPzxje7hCxtisoaiY1u+5LW",
      "include_colab_link": true
    },
    "kernelspec": {
      "name": "python3",
      "display_name": "Python 3"
    }
  },
  "cells": [
    {
      "cell_type": "markdown",
      "metadata": {
        "id": "view-in-github",
        "colab_type": "text"
      },
      "source": [
        "<a href=\"https://colab.research.google.com/github/chrisliu01/network-management/blob/master/assignment2.ipynb\" target=\"_parent\"><img src=\"https://colab.research.google.com/assets/colab-badge.svg\" alt=\"Open In Colab\"/></a>"
      ]
    },
    {
      "cell_type": "code",
      "metadata": {
        "id": "JO2NMiw5ZHI6",
        "colab_type": "code",
        "colab": {}
      },
      "source": [
        ""
      ],
      "execution_count": 0,
      "outputs": []
    },
    {
      "cell_type": "markdown",
      "metadata": {
        "id": "J9HAHJfdcG0R",
        "colab_type": "text"
      },
      "source": [
        "CSCI 6706 Summer - Assignment 2 - Chris Liu - B00415613\n",
        "- Note: this part is inspired by Lab 5, https://colab.research.google.com/drive/1BG2BPmFGegaMEjLIrKQ-Y589-8n0v8Zz?usp=sharing#scrollTo=W9aNNiTLfsy-\n"
      ]
    },
    {
      "cell_type": "markdown",
      "metadata": {
        "id": "4KwGNHUccVdV",
        "colab_type": "text"
      },
      "source": [
        "Data Preprocssing\n"
      ]
    },
    {
      "cell_type": "code",
      "metadata": {
        "id": "C0bj4FUpY3FU",
        "colab_type": "code",
        "outputId": "038c1e65-b0fa-44db-8ed6-c38fc212904e",
        "colab": {
          "resources": {
            "http://localhost:8080/nbextensions/google.colab/files.js": {
              "data": "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",
              "ok": true,
              "headers": [
                [
                  "content-type",
                  "application/javascript"
                ]
              ],
              "status": 200,
              "status_text": ""
            }
          },
          "base_uri": "https://localhost:8080/",
          "height": 75
        }
      },
      "source": [
        "from google.colab import files\n",
        "uploaded = files.upload()"
      ],
      "execution_count": 0,
      "outputs": [
        {
          "output_type": "display_data",
          "data": {
            "text/html": [
              "\n",
              "     <input type=\"file\" id=\"files-2e5afdb5-f870-4850-9eec-ade093adb32f\" name=\"files[]\" multiple disabled />\n",
              "     <output id=\"result-2e5afdb5-f870-4850-9eec-ade093adb32f\">\n",
              "      Upload widget is only available when the cell has been executed in the\n",
              "      current browser session. Please rerun this cell to enable.\n",
              "      </output>\n",
              "      <script src=\"/nbextensions/google.colab/files.js\"></script> "
            ],
            "text/plain": [
              "<IPython.core.display.HTML object>"
            ]
          },
          "metadata": {
            "tags": []
          }
        },
        {
          "output_type": "stream",
          "text": [
            "Saving 2020-06-09-4-02PM_00002_20200609170231_labeled.csv to 2020-06-09-4-02PM_00002_20200609170231_labeled.csv\n"
          ],
          "name": "stdout"
        }
      ]
    },
    {
      "cell_type": "code",
      "metadata": {
        "id": "Kr61QIoxVivG",
        "colab_type": "code",
        "outputId": "12066a60-58d5-4862-9a1b-7dffdaf13e08",
        "colab": {
          "base_uri": "https://localhost:8080/",
          "height": 202
        }
      },
      "source": [
        "\n",
        "# RUN ALL THE CODE BEFORE YOU START\n",
        "import numpy as np\n",
        "from matplotlib.pylab import plt #load plot library\n",
        "import pandas as pd\n",
        "import io\n",
        "# indicate the output of plotting function is printed to the notebook\n",
        "%matplotlib inline \n",
        "\n",
        "# FullMesh_y = [8.045, 20.281, 17.721, 20.281, 22.865, 32.314]\n",
        "# DropAlgorithm_y = [52.004, 64.585, 86.985]\n",
        "# NewDesign_y = [30.738, 61.910, 47.367, 38.983]\n",
        "# reading csv file  \n",
        "# df_day_one=pd.read_csv(io.BytesIO(uploaded['2020-06-07-8-05PM_00002_20200607210636_labeled.csv']))\n",
        "# ###\n",
        "# df_day_one.head()\n",
        "\n",
        "# reading csv file  \n",
        "# df_day_two=pd.read_csv(io.BytesIO(uploaded['2020-06-08-9-04AM_00002_20200608100431_labeled.csv']))\n",
        "# ###\n",
        "# df_day_two.head()\n",
        "\n",
        "df_day_three=pd.read_csv(io.BytesIO(uploaded['2020-06-09-4-02PM_00002_20200609170231_labeled.csv']))\n",
        "df_day_three.head()\n",
        "\n",
        "# df_total = df_day_one\n",
        "# df_total.append(df_day_two, ignore_index=True)\n",
        "# df_total.append(df_day_three, ignore_index=True)\n",
        "\n",
        "# df_total=pd.read_csv(io.BytesIO(uploaded['assignment2-df-total.csv']))\n",
        "# df_total.head()\n",
        "\n",
        "\n"
      ],
      "execution_count": 0,
      "outputs": [
        {
          "output_type": "execute_result",
          "data": {
            "text/html": [
              "<div>\n",
              "<style scoped>\n",
              "    .dataframe tbody tr th:only-of-type {\n",
              "        vertical-align: middle;\n",
              "    }\n",
              "\n",
              "    .dataframe tbody tr th {\n",
              "        vertical-align: top;\n",
              "    }\n",
              "\n",
              "    .dataframe thead th {\n",
              "        text-align: right;\n",
              "    }\n",
              "</style>\n",
              "<table border=\"1\" class=\"dataframe\">\n",
              "  <thead>\n",
              "    <tr style=\"text-align: right;\">\n",
              "      <th></th>\n",
              "      <th>StartTime</th>\n",
              "      <th>Flgs</th>\n",
              "      <th>Proto</th>\n",
              "      <th>SrcAddr</th>\n",
              "      <th>Sport</th>\n",
              "      <th>Dir</th>\n",
              "      <th>DstAddr</th>\n",
              "      <th>Dport</th>\n",
              "      <th>TotPkts</th>\n",
              "      <th>TotBytes</th>\n",
              "      <th>State</th>\n",
              "      <th>Load</th>\n",
              "      <th>Dur</th>\n",
              "      <th>Trans</th>\n",
              "      <th>Rate</th>\n",
              "      <th>sTos</th>\n",
              "      <th>dTos</th>\n",
              "      <th>sTtl</th>\n",
              "      <th>dTtl</th>\n",
              "      <th>Label</th>\n",
              "    </tr>\n",
              "  </thead>\n",
              "  <tbody>\n",
              "    <tr>\n",
              "      <th>0</th>\n",
              "      <td>10:19:25.440138</td>\n",
              "      <td></td>\n",
              "      <td>man</td>\n",
              "      <td>0</td>\n",
              "      <td>0</td>\n",
              "      <td>NaN</td>\n",
              "      <td>0</td>\n",
              "      <td>0</td>\n",
              "      <td>0</td>\n",
              "      <td>0</td>\n",
              "      <td>STA</td>\n",
              "      <td>0</td>\n",
              "      <td>0</td>\n",
              "      <td>nan</td>\n",
              "      <td>0</td>\n",
              "      <td>nan</td>\n",
              "      <td>nan</td>\n",
              "      <td>nan</td>\n",
              "      <td>nan</td>\n",
              "      <td>NaN</td>\n",
              "    </tr>\n",
              "    <tr>\n",
              "      <th>1</th>\n",
              "      <td>10:19:25.440138</td>\n",
              "      <td></td>\n",
              "      <td>man</td>\n",
              "      <td>0</td>\n",
              "      <td>0</td>\n",
              "      <td>NaN</td>\n",
              "      <td>0</td>\n",
              "      <td>0</td>\n",
              "      <td>0</td>\n",
              "      <td>0</td>\n",
              "      <td>STA</td>\n",
              "      <td>0</td>\n",
              "      <td>0</td>\n",
              "      <td>nan</td>\n",
              "      <td>0</td>\n",
              "      <td>nan</td>\n",
              "      <td>nan</td>\n",
              "      <td>nan</td>\n",
              "      <td>nan</td>\n",
              "      <td>NaN</td>\n",
              "    </tr>\n",
              "    <tr>\n",
              "      <th>2</th>\n",
              "      <td>17:02:29.778418</td>\n",
              "      <td>e g</td>\n",
              "      <td>tcp</td>\n",
              "      <td>192.168.0.4</td>\n",
              "      <td>54467</td>\n",
              "      <td>&lt;?&gt;</td>\n",
              "      <td>192.168.0.12</td>\n",
              "      <td>iscsi-target</td>\n",
              "      <td>970</td>\n",
              "      <td>266704</td>\n",
              "      <td>CON</td>\n",
              "      <td>463,472</td>\n",
              "      <td>5</td>\n",
              "      <td>1</td>\n",
              "      <td>211</td>\n",
              "      <td>0</td>\n",
              "      <td>0</td>\n",
              "      <td>64</td>\n",
              "      <td>128</td>\n",
              "      <td>flow=normal</td>\n",
              "    </tr>\n",
              "    <tr>\n",
              "      <th>3</th>\n",
              "      <td>17:02:29.779180</td>\n",
              "      <td>e</td>\n",
              "      <td>tcp</td>\n",
              "      <td>192.168.0.4</td>\n",
              "      <td>51512</td>\n",
              "      <td>?&gt;</td>\n",
              "      <td>52.96.88.178</td>\n",
              "      <td>pop3s</td>\n",
              "      <td>1</td>\n",
              "      <td>60</td>\n",
              "      <td>CON</td>\n",
              "      <td>0</td>\n",
              "      <td>0</td>\n",
              "      <td>1</td>\n",
              "      <td>0</td>\n",
              "      <td>0</td>\n",
              "      <td>nan</td>\n",
              "      <td>116</td>\n",
              "      <td>nan</td>\n",
              "      <td>flow=normal</td>\n",
              "    </tr>\n",
              "    <tr>\n",
              "      <th>4</th>\n",
              "      <td>17:02:29.779228</td>\n",
              "      <td>e</td>\n",
              "      <td>ip</td>\n",
              "      <td>00:11:32:b3:5a:72</td>\n",
              "      <td>NaN</td>\n",
              "      <td>-&gt;</td>\n",
              "      <td>c8:34:8e:0f:32:cb</td>\n",
              "      <td>NaN</td>\n",
              "      <td>91</td>\n",
              "      <td>4077922</td>\n",
              "      <td>INT</td>\n",
              "      <td>7,102,738</td>\n",
              "      <td>5</td>\n",
              "      <td>1</td>\n",
              "      <td>20</td>\n",
              "      <td>nan</td>\n",
              "      <td>nan</td>\n",
              "      <td>nan</td>\n",
              "      <td>nan</td>\n",
              "      <td>flow=bot</td>\n",
              "    </tr>\n",
              "  </tbody>\n",
              "</table>\n",
              "</div>"
            ],
            "text/plain": [
              "         StartTime        Flgs Proto  ... sTtl dTtl        Label\n",
              "0  10:19:25.440138               man  ...  nan  nan          NaN\n",
              "1  10:19:25.440138               man  ...  nan  nan          NaN\n",
              "2  17:02:29.778418   e g         tcp  ...   64  128  flow=normal\n",
              "3  17:02:29.779180   e           tcp  ...  116  nan  flow=normal\n",
              "4  17:02:29.779228   e            ip  ...  nan  nan     flow=bot\n",
              "\n",
              "[5 rows x 20 columns]"
            ]
          },
          "metadata": {
            "tags": []
          },
          "execution_count": 56
        }
      ]
    },
    {
      "cell_type": "code",
      "metadata": {
        "id": "ilj69Ozma6UN",
        "colab_type": "code",
        "outputId": "8e9d29a4-6778-4ba1-ad60-cb4af281bd9e",
        "colab": {
          "base_uri": "https://localhost:8080/",
          "height": 69
        }
      },
      "source": [
        "df_total.columns"
      ],
      "execution_count": 0,
      "outputs": [
        {
          "output_type": "execute_result",
          "data": {
            "text/plain": [
              "Index(['Proto', 'SrcAddr', 'DstAddr', 'Dport', 'TotPkts', 'TotBytes', 'Load',\n",
              "       'Label'],\n",
              "      dtype='object')"
            ]
          },
          "metadata": {
            "tags": []
          },
          "execution_count": 46
        }
      ]
    },
    {
      "cell_type": "code",
      "metadata": {
        "id": "GazQ1XTPcfjd",
        "colab_type": "code",
        "outputId": "5108f17d-1e23-42e1-d6a5-6607a9210c0d",
        "colab": {
          "base_uri": "https://localhost:8080/",
          "height": 87
        }
      },
      "source": [
        "#get information of columns\n",
        "df_day_one['SrcAddr'].unique()"
      ],
      "execution_count": 0,
      "outputs": [
        {
          "output_type": "execute_result",
          "data": {
            "text/plain": [
              "array(['0', '192.168.0.4', '00:11:32:b3:5a:72', '192.0.12.42',\n",
              "       '192.168.0.1', '192.168.0.5', '192.168.0.16', '192.168.100.3',\n",
              "       '192.168.0.9', 'fe80::b7:5e1e:196b:852c', '192.168.0.12',\n",
              "       '192.168.0.3'], dtype=object)"
            ]
          },
          "metadata": {
            "tags": []
          },
          "execution_count": 10
        }
      ]
    },
    {
      "cell_type": "code",
      "metadata": {
        "id": "1vagkAEhc69V",
        "colab_type": "code",
        "outputId": "e1f3fbcb-1185-40dc-8e7b-b58dcb1d8541",
        "colab": {
          "base_uri": "https://localhost:8080/",
          "height": 470
        }
      },
      "source": [
        "df_day_one.sort_values(by=['StartTime'])"
      ],
      "execution_count": 0,
      "outputs": [
        {
          "output_type": "execute_result",
          "data": {
            "text/html": [
              "<div>\n",
              "<style scoped>\n",
              "    .dataframe tbody tr th:only-of-type {\n",
              "        vertical-align: middle;\n",
              "    }\n",
              "\n",
              "    .dataframe tbody tr th {\n",
              "        vertical-align: top;\n",
              "    }\n",
              "\n",
              "    .dataframe thead th {\n",
              "        text-align: right;\n",
              "    }\n",
              "</style>\n",
              "<table border=\"1\" class=\"dataframe\">\n",
              "  <thead>\n",
              "    <tr style=\"text-align: right;\">\n",
              "      <th></th>\n",
              "      <th>StartTime</th>\n",
              "      <th>Flgs</th>\n",
              "      <th>Proto</th>\n",
              "      <th>SrcAddr</th>\n",
              "      <th>Sport</th>\n",
              "      <th>Dir</th>\n",
              "      <th>DstAddr</th>\n",
              "      <th>Dport</th>\n",
              "      <th>TotPkts</th>\n",
              "      <th>TotBytes</th>\n",
              "      <th>State</th>\n",
              "      <th>Load</th>\n",
              "      <th>Dur</th>\n",
              "      <th>Trans</th>\n",
              "      <th>Rate</th>\n",
              "      <th>sTos</th>\n",
              "      <th>dTos</th>\n",
              "      <th>sTtl</th>\n",
              "      <th>dTtl</th>\n",
              "      <th>Label</th>\n",
              "    </tr>\n",
              "  </thead>\n",
              "  <tbody>\n",
              "    <tr>\n",
              "      <th>1103</th>\n",
              "      <td>10:20:44.758519</td>\n",
              "      <td></td>\n",
              "      <td>man</td>\n",
              "      <td>0</td>\n",
              "      <td>0</td>\n",
              "      <td>NaN</td>\n",
              "      <td>0</td>\n",
              "      <td>0</td>\n",
              "      <td>0</td>\n",
              "      <td>0</td>\n",
              "      <td>STA</td>\n",
              "      <td>0.000000e+00</td>\n",
              "      <td>0.034744</td>\n",
              "      <td>NaN</td>\n",
              "      <td>0.000000</td>\n",
              "      <td>NaN</td>\n",
              "      <td>NaN</td>\n",
              "      <td>NaN</td>\n",
              "      <td>NaN</td>\n",
              "      <td>NaN</td>\n",
              "    </tr>\n",
              "    <tr>\n",
              "      <th>2204</th>\n",
              "      <td>10:20:52.919528</td>\n",
              "      <td></td>\n",
              "      <td>man</td>\n",
              "      <td>0</td>\n",
              "      <td>0</td>\n",
              "      <td>NaN</td>\n",
              "      <td>136</td>\n",
              "      <td>1</td>\n",
              "      <td>0</td>\n",
              "      <td>12708080</td>\n",
              "      <td>STP</td>\n",
              "      <td>0.000000e+00</td>\n",
              "      <td>8.195753</td>\n",
              "      <td>NaN</td>\n",
              "      <td>0.000000</td>\n",
              "      <td>NaN</td>\n",
              "      <td>NaN</td>\n",
              "      <td>NaN</td>\n",
              "      <td>NaN</td>\n",
              "      <td>NaN</td>\n",
              "    </tr>\n",
              "    <tr>\n",
              "      <th>1105</th>\n",
              "      <td>21:06:35.725095</td>\n",
              "      <td>e g</td>\n",
              "      <td>tcp</td>\n",
              "      <td>192.168.0.4</td>\n",
              "      <td>57813</td>\n",
              "      <td>&lt;?&gt;</td>\n",
              "      <td>192.168.0.12</td>\n",
              "      <td>iscsi-target</td>\n",
              "      <td>1016</td>\n",
              "      <td>273888</td>\n",
              "      <td>CON</td>\n",
              "      <td>4.411601e+05</td>\n",
              "      <td>4.955335</td>\n",
              "      <td>1.0</td>\n",
              "      <td>204.829742</td>\n",
              "      <td>0.0</td>\n",
              "      <td>0.0</td>\n",
              "      <td>64.0</td>\n",
              "      <td>128.0</td>\n",
              "      <td>flow=normal</td>\n",
              "    </tr>\n",
              "    <tr>\n",
              "      <th>3</th>\n",
              "      <td>21:06:35.725095</td>\n",
              "      <td>e g</td>\n",
              "      <td>tcp</td>\n",
              "      <td>192.168.0.4</td>\n",
              "      <td>57813</td>\n",
              "      <td>&lt;?&gt;</td>\n",
              "      <td>192.168.0.12</td>\n",
              "      <td>iscsi-target</td>\n",
              "      <td>1016</td>\n",
              "      <td>273888</td>\n",
              "      <td>CON</td>\n",
              "      <td>4.411601e+05</td>\n",
              "      <td>4.955335</td>\n",
              "      <td>1.0</td>\n",
              "      <td>204.829742</td>\n",
              "      <td>0.0</td>\n",
              "      <td>0.0</td>\n",
              "      <td>64.0</td>\n",
              "      <td>128.0</td>\n",
              "      <td>flow=normal</td>\n",
              "    </tr>\n",
              "    <tr>\n",
              "      <th>1106</th>\n",
              "      <td>21:06:35.727711</td>\n",
              "      <td>e</td>\n",
              "      <td>ip</td>\n",
              "      <td>00:11:32:b3:5a:72</td>\n",
              "      <td>NaN</td>\n",
              "      <td>-&gt;</td>\n",
              "      <td>c8:34:8e:0f:32:cb</td>\n",
              "      <td>NaN</td>\n",
              "      <td>71</td>\n",
              "      <td>3213530</td>\n",
              "      <td>INT</td>\n",
              "      <td>5.223645e+06</td>\n",
              "      <td>4.852198</td>\n",
              "      <td>1.0</td>\n",
              "      <td>14.426452</td>\n",
              "      <td>NaN</td>\n",
              "      <td>NaN</td>\n",
              "      <td>NaN</td>\n",
              "      <td>NaN</td>\n",
              "      <td>flow=bot</td>\n",
              "    </tr>\n",
              "    <tr>\n",
              "      <th>...</th>\n",
              "      <td>...</td>\n",
              "      <td>...</td>\n",
              "      <td>...</td>\n",
              "      <td>...</td>\n",
              "      <td>...</td>\n",
              "      <td>...</td>\n",
              "      <td>...</td>\n",
              "      <td>...</td>\n",
              "      <td>...</td>\n",
              "      <td>...</td>\n",
              "      <td>...</td>\n",
              "      <td>...</td>\n",
              "      <td>...</td>\n",
              "      <td>...</td>\n",
              "      <td>...</td>\n",
              "      <td>...</td>\n",
              "      <td>...</td>\n",
              "      <td>...</td>\n",
              "      <td>...</td>\n",
              "      <td>...</td>\n",
              "    </tr>\n",
              "    <tr>\n",
              "      <th>1101</th>\n",
              "      <td>21:07:59.023482</td>\n",
              "      <td>e</td>\n",
              "      <td>tcp</td>\n",
              "      <td>192.168.0.4</td>\n",
              "      <td>57604</td>\n",
              "      <td>-&gt;</td>\n",
              "      <td>13.107.42.13</td>\n",
              "      <td>https</td>\n",
              "      <td>9</td>\n",
              "      <td>5225</td>\n",
              "      <td>CON</td>\n",
              "      <td>4.238566e+05</td>\n",
              "      <td>0.078385</td>\n",
              "      <td>1.0</td>\n",
              "      <td>102.060341</td>\n",
              "      <td>0.0</td>\n",
              "      <td>0.0</td>\n",
              "      <td>128.0</td>\n",
              "      <td>121.0</td>\n",
              "      <td>flow=normal</td>\n",
              "    </tr>\n",
              "    <tr>\n",
              "      <th>2203</th>\n",
              "      <td>21:07:59.023482</td>\n",
              "      <td>e</td>\n",
              "      <td>tcp</td>\n",
              "      <td>192.168.0.4</td>\n",
              "      <td>57604</td>\n",
              "      <td>-&gt;</td>\n",
              "      <td>13.107.42.13</td>\n",
              "      <td>https</td>\n",
              "      <td>9</td>\n",
              "      <td>5225</td>\n",
              "      <td>CON</td>\n",
              "      <td>4.238566e+05</td>\n",
              "      <td>0.078385</td>\n",
              "      <td>1.0</td>\n",
              "      <td>102.060341</td>\n",
              "      <td>0.0</td>\n",
              "      <td>0.0</td>\n",
              "      <td>128.0</td>\n",
              "      <td>121.0</td>\n",
              "      <td>flow=normal</td>\n",
              "    </tr>\n",
              "    <tr>\n",
              "      <th>0</th>\n",
              "      <td>21:21:09.916193</td>\n",
              "      <td></td>\n",
              "      <td>man</td>\n",
              "      <td>0</td>\n",
              "      <td>0</td>\n",
              "      <td>NaN</td>\n",
              "      <td>0</td>\n",
              "      <td>0</td>\n",
              "      <td>0</td>\n",
              "      <td>0</td>\n",
              "      <td>STA</td>\n",
              "      <td>0.000000e+00</td>\n",
              "      <td>0.023956</td>\n",
              "      <td>NaN</td>\n",
              "      <td>0.000000</td>\n",
              "      <td>NaN</td>\n",
              "      <td>NaN</td>\n",
              "      <td>NaN</td>\n",
              "      <td>NaN</td>\n",
              "      <td>NaN</td>\n",
              "    </tr>\n",
              "    <tr>\n",
              "      <th>1</th>\n",
              "      <td>21:21:09.916193</td>\n",
              "      <td></td>\n",
              "      <td>man</td>\n",
              "      <td>0</td>\n",
              "      <td>0</td>\n",
              "      <td>NaN</td>\n",
              "      <td>0</td>\n",
              "      <td>0</td>\n",
              "      <td>0</td>\n",
              "      <td>0</td>\n",
              "      <td>STA</td>\n",
              "      <td>0.000000e+00</td>\n",
              "      <td>0.023956</td>\n",
              "      <td>NaN</td>\n",
              "      <td>0.000000</td>\n",
              "      <td>NaN</td>\n",
              "      <td>NaN</td>\n",
              "      <td>NaN</td>\n",
              "      <td>NaN</td>\n",
              "      <td>NaN</td>\n",
              "    </tr>\n",
              "    <tr>\n",
              "      <th>1102</th>\n",
              "      <td>21:21:18.022157</td>\n",
              "      <td></td>\n",
              "      <td>man</td>\n",
              "      <td>0</td>\n",
              "      <td>0</td>\n",
              "      <td>NaN</td>\n",
              "      <td>136</td>\n",
              "      <td>1</td>\n",
              "      <td>0</td>\n",
              "      <td>12708080</td>\n",
              "      <td>STP</td>\n",
              "      <td>0.000000e+00</td>\n",
              "      <td>8.129920</td>\n",
              "      <td>NaN</td>\n",
              "      <td>0.000000</td>\n",
              "      <td>NaN</td>\n",
              "      <td>NaN</td>\n",
              "      <td>NaN</td>\n",
              "      <td>NaN</td>\n",
              "      <td>NaN</td>\n",
              "    </tr>\n",
              "  </tbody>\n",
              "</table>\n",
              "<p>2205 rows × 20 columns</p>\n",
              "</div>"
            ],
            "text/plain": [
              "            StartTime        Flgs Proto  ...   sTtl   dTtl        Label\n",
              "1103  10:20:44.758519               man  ...    NaN    NaN          NaN\n",
              "2204  10:20:52.919528               man  ...    NaN    NaN          NaN\n",
              "1105  21:06:35.725095   e g         tcp  ...   64.0  128.0  flow=normal\n",
              "3     21:06:35.725095   e g         tcp  ...   64.0  128.0  flow=normal\n",
              "1106  21:06:35.727711   e            ip  ...    NaN    NaN     flow=bot\n",
              "...               ...         ...   ...  ...    ...    ...          ...\n",
              "1101  21:07:59.023482   e           tcp  ...  128.0  121.0  flow=normal\n",
              "2203  21:07:59.023482   e           tcp  ...  128.0  121.0  flow=normal\n",
              "0     21:21:09.916193               man  ...    NaN    NaN          NaN\n",
              "1     21:21:09.916193               man  ...    NaN    NaN          NaN\n",
              "1102  21:21:18.022157               man  ...    NaN    NaN          NaN\n",
              "\n",
              "[2205 rows x 20 columns]"
            ]
          },
          "metadata": {
            "tags": []
          },
          "execution_count": 4
        }
      ]
    },
    {
      "cell_type": "code",
      "metadata": {
        "id": "e0EkMC_4z8zm",
        "colab_type": "code",
        "outputId": "a8bc8839-e70a-4a9d-8401-342c2c691612",
        "colab": {
          "base_uri": "https://localhost:8080/",
          "height": 277
        }
      },
      "source": [
        "# aggregate the records by the same source address, destination and portal number, the sum up things are total packages and total bytes\n",
        "sumdf_day_one = df_day_one.groupby(['SrcAddr', 'DstAddr', 'Dport']).agg({'TotPkts': 'sum', 'TotBytes': 'sum'})\n",
        "print(sumdf_day_one)"
      ],
      "execution_count": 0,
      "outputs": [
        {
          "output_type": "stream",
          "text": [
            "                                                    TotPkts  TotBytes\n",
            "SrcAddr                 DstAddr         Dport                        \n",
            "192.0.12.42             192.168.0.4     57372             2       132\n",
            "192.168.0.12            192.168.0.4     0x6f02            4       372\n",
            "                        224.0.0.251     mdns              2       162\n",
            "192.168.0.16            192.168.0.4     61355             8      2696\n",
            "192.168.0.4             13.107.21.200   https             6       366\n",
            "...                                                     ...       ...\n",
            "192.168.0.9             192.168.0.255   netbios-ns       12      1104\n",
            "                        255.255.255.255 bootps            4      1368\n",
            "192.168.100.3           239.255.255.250 1900             16      5708\n",
            "fe80::b7:5e1e:196b:852c ff02::1:3       hostmon           6       590\n",
            "                        ff02::fb        mdns              2       182\n",
            "\n",
            "[149 rows x 2 columns]\n"
          ],
          "name": "stdout"
        }
      ]
    },
    {
      "cell_type": "code",
      "metadata": {
        "id": "TxrDLYoPdh0L",
        "colab_type": "code",
        "colab": {}
      },
      "source": [
        "def preprocess(df):\n",
        "  # remove NA values\n",
        "  df.dropna()\n",
        "  # remove unnecessary columns, or the columns have too many NA vlues\n",
        "  df = df.drop(['Flgs', 'Sport', 'Dir', 'State', 'StartTime', 'Dur', 'Trans', 'Rate',\n",
        "        'sTos', 'dTos', 'sTtl', 'dTtl'], axis=1)\n",
        "  # remove abnormal address field\n",
        "  df = df[df.SrcAddr != '0']\n",
        "  return df\n",
        "\n",
        "df_day_three = preprocess(df_day_three)"
      ],
      "execution_count": 0,
      "outputs": []
    },
    {
      "cell_type": "code",
      "metadata": {
        "id": "GIitTRGJ_63c",
        "colab_type": "code",
        "colab": {}
      },
      "source": [
        "def saveCsv(df, filename):\n",
        "    df.to_csv(filename, index=False, header=True)\n",
        "    from google.colab import files\n",
        "    files.download(filename)\n",
        "\n",
        "saveCsv(df_total, 'assignment2-df-total.csv')"
      ],
      "execution_count": 0,
      "outputs": []
    },
    {
      "cell_type": "code",
      "metadata": {
        "id": "IY8EQF--92-F",
        "colab_type": "code",
        "outputId": "03b82ac0-c51a-45f2-ef56-82de89a05af9",
        "colab": {
          "base_uri": "https://localhost:8080/",
          "height": 537
        }
      },
      "source": [
        "# aggregate the records by the same source address, destination and portal number, the sum up things are total packages and total bytes\n",
        "df_day_two = df_day_two.groupby(['SrcAddr', 'DstAddr', 'Dport']).agg({'TotPkts': 'sum', 'TotBytes': 'sum'})\n",
        "print(df_day_two)"
      ],
      "execution_count": 0,
      "outputs": [
        {
          "output_type": "stream",
          "text": [
            "                                            TotPkts  TotBytes\n",
            "SrcAddr        DstAddr        Dport                          \n",
            "142.250.31.189 192.168.0.4    58427               2       161\n",
            "192.0.15.98    192.168.0.4    64925               1        96\n",
            "192.168.0.4    13.107.42.13   http-alt            1        66\n",
            "               192.0.12.42    pop3               17      1074\n",
            "               192.0.15.98    snmp                4       351\n",
            "               192.168.0.12   5000               63     33539\n",
            "                              5001                9      2529\n",
            "                              http               44      6674\n",
            "                              https              10      1467\n",
            "                              iscsi-target      938    233682\n",
            "                              microsoft-ds      119     21697\n",
            "                              pop3                2       126\n",
            "                              smtp               16      1008\n",
            "                              snmp                8      1265\n",
            "               24.222.0.94    domain              9      1043\n",
            "               24.222.0.95    domain              2       192\n",
            "               52.114.132.23  https              18      9068\n",
            "               52.119.184.186 https              14      2529\n",
            "               52.119.189.184 https              23      4481\n",
            "               52.237.132.211 https               3       232\n",
            "               52.95.84.28    https              31      9211\n",
            "               52.96.88.162   0x0100             10       740\n",
            "               52.96.88.178   http-alt            1        66\n",
            "                              imaps               1       212\n",
            "               54.239.31.83   pop3                1        60\n",
            "                              smtp                2       132\n",
            "               54.240.225.129 https              16      4194\n",
            "               99.82.184.22   https              30      9097\n"
          ],
          "name": "stdout"
        }
      ]
    },
    {
      "cell_type": "code",
      "metadata": {
        "id": "ycALaRmA1c0v",
        "colab_type": "code",
        "outputId": "7d807b1c-c032-430d-f500-84af9ae1bce1",
        "colab": {
          "base_uri": "https://localhost:8080/",
          "height": 487
        }
      },
      "source": [
        "df_day_two"
      ],
      "execution_count": 0,
      "outputs": [
        {
          "output_type": "execute_result",
          "data": {
            "text/html": [
              "<div>\n",
              "<style scoped>\n",
              "    .dataframe tbody tr th:only-of-type {\n",
              "        vertical-align: middle;\n",
              "    }\n",
              "\n",
              "    .dataframe tbody tr th {\n",
              "        vertical-align: top;\n",
              "    }\n",
              "\n",
              "    .dataframe thead th {\n",
              "        text-align: right;\n",
              "    }\n",
              "</style>\n",
              "<table border=\"1\" class=\"dataframe\">\n",
              "  <thead>\n",
              "    <tr style=\"text-align: right;\">\n",
              "      <th></th>\n",
              "      <th>StartTime</th>\n",
              "      <th>Flgs</th>\n",
              "      <th>Proto</th>\n",
              "      <th>SrcAddr</th>\n",
              "      <th>Sport</th>\n",
              "      <th>Dir</th>\n",
              "      <th>DstAddr</th>\n",
              "      <th>Dport</th>\n",
              "      <th>TotPkts</th>\n",
              "      <th>TotBytes</th>\n",
              "      <th>State</th>\n",
              "      <th>Load</th>\n",
              "      <th>Dur</th>\n",
              "      <th>Trans</th>\n",
              "      <th>Rate</th>\n",
              "      <th>sTos</th>\n",
              "      <th>dTos</th>\n",
              "      <th>sTtl</th>\n",
              "      <th>dTtl</th>\n",
              "      <th>Label</th>\n",
              "    </tr>\n",
              "  </thead>\n",
              "  <tbody>\n",
              "    <tr>\n",
              "      <th>0</th>\n",
              "      <td>10:08:33.921977</td>\n",
              "      <td></td>\n",
              "      <td>man</td>\n",
              "      <td>0</td>\n",
              "      <td>0</td>\n",
              "      <td>NaN</td>\n",
              "      <td>0</td>\n",
              "      <td>0</td>\n",
              "      <td>0</td>\n",
              "      <td>0</td>\n",
              "      <td>STA</td>\n",
              "      <td>0.000000e+00</td>\n",
              "      <td>0.169119</td>\n",
              "      <td>NaN</td>\n",
              "      <td>0.000000</td>\n",
              "      <td>NaN</td>\n",
              "      <td>NaN</td>\n",
              "      <td>NaN</td>\n",
              "      <td>NaN</td>\n",
              "      <td>NaN</td>\n",
              "    </tr>\n",
              "    <tr>\n",
              "      <th>1</th>\n",
              "      <td>10:08:33.921977</td>\n",
              "      <td></td>\n",
              "      <td>man</td>\n",
              "      <td>0</td>\n",
              "      <td>0</td>\n",
              "      <td>NaN</td>\n",
              "      <td>0</td>\n",
              "      <td>0</td>\n",
              "      <td>0</td>\n",
              "      <td>0</td>\n",
              "      <td>STA</td>\n",
              "      <td>0.000000e+00</td>\n",
              "      <td>0.169119</td>\n",
              "      <td>NaN</td>\n",
              "      <td>0.000000</td>\n",
              "      <td>NaN</td>\n",
              "      <td>NaN</td>\n",
              "      <td>NaN</td>\n",
              "      <td>NaN</td>\n",
              "      <td>NaN</td>\n",
              "    </tr>\n",
              "    <tr>\n",
              "      <th>2</th>\n",
              "      <td>10:04:29.957454</td>\n",
              "      <td>e g</td>\n",
              "      <td>tcp</td>\n",
              "      <td>192.168.0.4</td>\n",
              "      <td>53416</td>\n",
              "      <td>&lt;?&gt;</td>\n",
              "      <td>192.168.0.12</td>\n",
              "      <td>iscsi-target</td>\n",
              "      <td>904</td>\n",
              "      <td>226122</td>\n",
              "      <td>CON</td>\n",
              "      <td>4.697709e+05</td>\n",
              "      <td>3.838024</td>\n",
              "      <td>1.0</td>\n",
              "      <td>235.277328</td>\n",
              "      <td>0.0</td>\n",
              "      <td>0.0</td>\n",
              "      <td>64.0</td>\n",
              "      <td>128.0</td>\n",
              "      <td>flow=normal</td>\n",
              "    </tr>\n",
              "    <tr>\n",
              "      <th>3</th>\n",
              "      <td>10:04:29.957467</td>\n",
              "      <td>e</td>\n",
              "      <td>tcp</td>\n",
              "      <td>192.168.0.4</td>\n",
              "      <td>54356</td>\n",
              "      <td>&lt;?&gt;</td>\n",
              "      <td>192.168.0.12</td>\n",
              "      <td>microsoft-ds</td>\n",
              "      <td>7</td>\n",
              "      <td>1633</td>\n",
              "      <td>RST</td>\n",
              "      <td>1.970595e+05</td>\n",
              "      <td>0.046727</td>\n",
              "      <td>1.0</td>\n",
              "      <td>128.405411</td>\n",
              "      <td>16.0</td>\n",
              "      <td>0.0</td>\n",
              "      <td>64.0</td>\n",
              "      <td>128.0</td>\n",
              "      <td>flow=normal</td>\n",
              "    </tr>\n",
              "    <tr>\n",
              "      <th>4</th>\n",
              "      <td>10:04:29.957686</td>\n",
              "      <td>e</td>\n",
              "      <td>tcp</td>\n",
              "      <td>192.168.0.4</td>\n",
              "      <td>54346</td>\n",
              "      <td>?&gt;</td>\n",
              "      <td>54.239.31.83</td>\n",
              "      <td>pop3</td>\n",
              "      <td>1</td>\n",
              "      <td>60</td>\n",
              "      <td>RST</td>\n",
              "      <td>0.000000e+00</td>\n",
              "      <td>0.000000</td>\n",
              "      <td>1.0</td>\n",
              "      <td>0.000000</td>\n",
              "      <td>0.0</td>\n",
              "      <td>NaN</td>\n",
              "      <td>225.0</td>\n",
              "      <td>NaN</td>\n",
              "      <td>flow=normal</td>\n",
              "    </tr>\n",
              "    <tr>\n",
              "      <th>...</th>\n",
              "      <td>...</td>\n",
              "      <td>...</td>\n",
              "      <td>...</td>\n",
              "      <td>...</td>\n",
              "      <td>...</td>\n",
              "      <td>...</td>\n",
              "      <td>...</td>\n",
              "      <td>...</td>\n",
              "      <td>...</td>\n",
              "      <td>...</td>\n",
              "      <td>...</td>\n",
              "      <td>...</td>\n",
              "      <td>...</td>\n",
              "      <td>...</td>\n",
              "      <td>...</td>\n",
              "      <td>...</td>\n",
              "      <td>...</td>\n",
              "      <td>...</td>\n",
              "      <td>...</td>\n",
              "      <td>...</td>\n",
              "    </tr>\n",
              "    <tr>\n",
              "      <th>76</th>\n",
              "      <td>10:04:34.871265</td>\n",
              "      <td>e</td>\n",
              "      <td>tcp</td>\n",
              "      <td>192.168.0.4</td>\n",
              "      <td>53946</td>\n",
              "      <td>&lt;?&gt;</td>\n",
              "      <td>192.168.0.12</td>\n",
              "      <td>5000</td>\n",
              "      <td>3</td>\n",
              "      <td>168</td>\n",
              "      <td>FIN</td>\n",
              "      <td>7.237393e+04</td>\n",
              "      <td>0.005969</td>\n",
              "      <td>1.0</td>\n",
              "      <td>335.064484</td>\n",
              "      <td>0.0</td>\n",
              "      <td>0.0</td>\n",
              "      <td>128.0</td>\n",
              "      <td>64.0</td>\n",
              "      <td>flow=normal</td>\n",
              "    </tr>\n",
              "    <tr>\n",
              "      <th>77</th>\n",
              "      <td>10:04:34.871803</td>\n",
              "      <td>e</td>\n",
              "      <td>tcp</td>\n",
              "      <td>192.168.0.4</td>\n",
              "      <td>54390</td>\n",
              "      <td>-&gt;</td>\n",
              "      <td>192.168.0.12</td>\n",
              "      <td>5000</td>\n",
              "      <td>5</td>\n",
              "      <td>468</td>\n",
              "      <td>CON</td>\n",
              "      <td>1.116654e+05</td>\n",
              "      <td>0.020848</td>\n",
              "      <td>1.0</td>\n",
              "      <td>191.864929</td>\n",
              "      <td>0.0</td>\n",
              "      <td>0.0</td>\n",
              "      <td>128.0</td>\n",
              "      <td>64.0</td>\n",
              "      <td>flow=normal</td>\n",
              "    </tr>\n",
              "    <tr>\n",
              "      <th>78</th>\n",
              "      <td>10:04:34.995502</td>\n",
              "      <td>e g</td>\n",
              "      <td>tcp</td>\n",
              "      <td>192.168.0.4</td>\n",
              "      <td>53416</td>\n",
              "      <td>&lt;?&gt;</td>\n",
              "      <td>192.168.0.12</td>\n",
              "      <td>iscsi-target</td>\n",
              "      <td>34</td>\n",
              "      <td>7560</td>\n",
              "      <td>CON</td>\n",
              "      <td>3.880350e+07</td>\n",
              "      <td>0.001257</td>\n",
              "      <td>1.0</td>\n",
              "      <td>26252.982422</td>\n",
              "      <td>0.0</td>\n",
              "      <td>0.0</td>\n",
              "      <td>64.0</td>\n",
              "      <td>128.0</td>\n",
              "      <td>flow=normal</td>\n",
              "    </tr>\n",
              "    <tr>\n",
              "      <th>79</th>\n",
              "      <td>10:04:34.995823</td>\n",
              "      <td>e</td>\n",
              "      <td>ip</td>\n",
              "      <td>00:11:32:b3:5a:72</td>\n",
              "      <td>NaN</td>\n",
              "      <td>-&gt;</td>\n",
              "      <td>c8:34:8e:0f:32:cb</td>\n",
              "      <td>NaN</td>\n",
              "      <td>14</td>\n",
              "      <td>787380</td>\n",
              "      <td>REQ</td>\n",
              "      <td>5.250549e+09</td>\n",
              "      <td>0.001114</td>\n",
              "      <td>1.0</td>\n",
              "      <td>11669.659180</td>\n",
              "      <td>NaN</td>\n",
              "      <td>NaN</td>\n",
              "      <td>NaN</td>\n",
              "      <td>NaN</td>\n",
              "      <td>flow=bot</td>\n",
              "    </tr>\n",
              "    <tr>\n",
              "      <th>80</th>\n",
              "      <td>10:08:34.943939</td>\n",
              "      <td></td>\n",
              "      <td>man</td>\n",
              "      <td>0</td>\n",
              "      <td>0</td>\n",
              "      <td>NaN</td>\n",
              "      <td>72</td>\n",
              "      <td>1</td>\n",
              "      <td>0</td>\n",
              "      <td>11124696</td>\n",
              "      <td>STP</td>\n",
              "      <td>0.000000e+00</td>\n",
              "      <td>1.191081</td>\n",
              "      <td>NaN</td>\n",
              "      <td>0.000000</td>\n",
              "      <td>NaN</td>\n",
              "      <td>NaN</td>\n",
              "      <td>NaN</td>\n",
              "      <td>NaN</td>\n",
              "      <td>NaN</td>\n",
              "    </tr>\n",
              "  </tbody>\n",
              "</table>\n",
              "<p>81 rows × 20 columns</p>\n",
              "</div>"
            ],
            "text/plain": [
              "          StartTime        Flgs Proto  ...   sTtl   dTtl        Label\n",
              "0   10:08:33.921977               man  ...    NaN    NaN          NaN\n",
              "1   10:08:33.921977               man  ...    NaN    NaN          NaN\n",
              "2   10:04:29.957454   e g         tcp  ...   64.0  128.0  flow=normal\n",
              "3   10:04:29.957467   e           tcp  ...   64.0  128.0  flow=normal\n",
              "4   10:04:29.957686   e           tcp  ...  225.0    NaN  flow=normal\n",
              "..              ...         ...   ...  ...    ...    ...          ...\n",
              "76  10:04:34.871265   e           tcp  ...  128.0   64.0  flow=normal\n",
              "77  10:04:34.871803   e           tcp  ...  128.0   64.0  flow=normal\n",
              "78  10:04:34.995502   e g         tcp  ...   64.0  128.0  flow=normal\n",
              "79  10:04:34.995823   e            ip  ...    NaN    NaN     flow=bot\n",
              "80  10:08:34.943939               man  ...    NaN    NaN          NaN\n",
              "\n",
              "[81 rows x 20 columns]"
            ]
          },
          "metadata": {
            "tags": []
          },
          "execution_count": 24
        }
      ]
    },
    {
      "cell_type": "markdown",
      "metadata": {
        "id": "9Uf-DsdhcQcU",
        "colab_type": "text"
      },
      "source": [
        "Visualization"
      ]
    },
    {
      "cell_type": "code",
      "metadata": {
        "id": "Ts6pZQ5hcPfM",
        "colab_type": "code",
        "outputId": "6edadb61-70d3-46c6-fcbd-aa73cd8b873f",
        "colab": {
          "base_uri": "https://localhost:8080/",
          "height": 72
        }
      },
      "source": [
        "import pandas as pd\n",
        "import numpy as np\n",
        "from sklearn import metrics\n",
        "import matplotlib.pyplot as plt\n",
        "import seaborn as sns\n",
        "import collections\n",
        "\n",
        "from sklearn.pipeline import Pipeline\n",
        "from sklearn.preprocessing import StandardScaler,LabelEncoder\n",
        "from sklearn.model_selection import train_test_split\n",
        "from sklearn.tree import DecisionTreeClassifier\n",
        "from sklearn.naive_bayes import GaussianNB\n",
        "from sklearn.ensemble import RandomForestClassifier\n",
        "from sklearn.metrics import confusion_matrix,classification_report"
      ],
      "execution_count": 0,
      "outputs": [
        {
          "output_type": "stream",
          "text": [
            "/usr/local/lib/python3.6/dist-packages/statsmodels/tools/_testing.py:19: FutureWarning: pandas.util.testing is deprecated. Use the functions in the public API at pandas.testing instead.\n",
            "  import pandas.util.testing as tm\n"
          ],
          "name": "stderr"
        }
      ]
    },
    {
      "cell_type": "code",
      "metadata": {
        "id": "A2kwJna7dRRX",
        "colab_type": "code",
        "outputId": "906e98c9-c254-4dbf-c4ce-ef5522f0a922",
        "colab": {
          "base_uri": "https://localhost:8080/",
          "height": 295
        }
      },
      "source": [
        "# Plot a histogram of flows\n",
        "# Similar to rahisto\n",
        "def totlePkg(df):\n",
        "  plt.hist([df[df['Label']=='flow=normal']['TotPkts'], df[df['Label']=='flow=bot']['TotPkts']],log=True ,\n",
        "          stacked=True, color=['blue','red'],bins = np.arange(0,150,10), label=['Normal','Bot'])\n",
        "  plt.ylabel('Number of flows')\n",
        "  plt.xlabel('Number of packets')\n",
        "  plt.title(\"Flows VS Packets\")\n",
        "  plt.legend()\n",
        "  plt.show()\n",
        "\n",
        "totlePkg(df_total)"
      ],
      "execution_count": 0,
      "outputs": [
        {
          "output_type": "display_data",
          "data": {
            "image/png": "[encoded data removed]",
            "text/plain": [
              "<Figure size 432x288 with 1 Axes>"
            ]
          },
          "metadata": {
            "tags": [],
            "needs_background": "light"
          }
        }
      ]
    },
    {
      "cell_type": "code",
      "metadata": {
        "id": "tkiCq7VddcyB",
        "colab_type": "code",
        "outputId": "bfc4eb1c-9125-4d68-ee47-bed8f3f9d4a1",
        "colab": {
          "base_uri": "https://localhost:8080/",
          "height": 354
        }
      },
      "source": [
        "# source: https://meyob.github.io/blog/2017/network-trace-analysis/\n",
        "# similar to rasort\n",
        "\n",
        "def srcAddTraffic(df):\n",
        "  f, ax = plt.subplots(1, 1,figsize=(6, 4))\n",
        "\n",
        "  per_ip = df.groupby(\"DstAddr\", as_index=False).agg({\"TotBytes\":[np.sum]})\n",
        "\n",
        "  p = per_ip.sort_values(by=(\"TotBytes\",\"sum\"),ascending=False)[:10]\n",
        "  p[\"TotBytes\",\"sum\"] = p[\"TotBytes\",\"sum\"]/1000000\n",
        "  sns.barplot(p[\"DstAddr\"], p[\"TotBytes\",\"sum\"],palette=\"Spectral_r\", ax=ax)\n",
        "\n",
        "  ax.set_xticklabels(ax.xaxis.get_majorticklabels(), rotation=45)\n",
        "  ax.set_ylabel(\"Traffic volume (MB)\")\n",
        "  ax.set_title(\"Top 10 IP addresses by traffic volume\")\n",
        "\n",
        "srcAddTraffic(df_total)"
      ],
      "execution_count": 0,
      "outputs": [
        {
          "output_type": "display_data",
          "data": {
            "image/png": "[encoded data removed]",
            "text/plain": [
              "<Figure size 432x288 with 1 Axes>"
            ]
          },
          "metadata": {
            "tags": [],
            "needs_background": "light"
          }
        }
      ]
    },
    {
      "cell_type": "code",
      "metadata": {
        "id": "cLGJV6r6dhBz",
        "colab_type": "code",
        "outputId": "78770f75-9fe4-44b9-eb7d-e86d9c78e4c8",
        "colab": {
          "base_uri": "https://localhost:8080/",
          "height": 377
        }
      },
      "source": [
        "#source: https://anaconda.org/anaconda-enterprise/malware-traffic-analysis/notebook\n",
        "# plot traffic of each source IP by port number\n",
        "\n",
        "def box_plot_df_setup(series_a, series_b): \n",
        "    # Count up all the times that a category from series_a\n",
        "    # matches up with a category from series_b. This is\n",
        "    # basically a gigantic contingency table\n",
        "    cont_table = collections.defaultdict(lambda : collections.Counter())\n",
        "    for val_a, val_b in zip(series_a.values, series_b.values):\n",
        "        cont_table[val_a][val_b] += 1\n",
        "    \n",
        "    # Create a dataframe\n",
        "    # A dataframe with keys from series_a as the index, series_b_keys\n",
        "    # as the columns and the counts as the values.\n",
        "    dataframe = pd.DataFrame(cont_table.values(), index=cont_table.keys())\n",
        "    dataframe.fillna(0, inplace=True)\n",
        "    return dataframe\n",
        "\n",
        "def connectRank(df):\n",
        "    df1 = df.sample(frac=0.1, random_state=10)\n",
        "    ax = box_plot_df_setup(df1['Dport'], df1['SrcAddr']).T.plot(kind='bar', stacked=True)\n",
        "    plt.ylabel('Total # of connections')\n",
        "    plt.xlabel('Source IP')\n",
        "    ax.set_title(\"Protocol Connections Ranking\")\n",
        "    patches, labels = ax.get_legend_handles_labels()\n",
        "    ax.legend(patches, labels, bbox_to_anchor=(1.05, 1), loc=2, borderaxespad=0., title=\"Port\")\n",
        "\n",
        "connectRank(df_total)"
      ],
      "execution_count": 0,
      "outputs": [
        {
          "output_type": "display_data",
          "data": {
            "image/png": "[encoded data removed]",
            "text/plain": [
              "<Figure size 432x288 with 1 Axes>"
            ]
          },
          "metadata": {
            "tags": [],
            "needs_background": "light"
          }
        }
      ]
    },
    {
      "cell_type": "code",
      "metadata": {
        "id": "mVHXF5zzdk0L",
        "colab_type": "code",
        "outputId": "897406ec-f1aa-4117-e9df-c72b538f3d9c",
        "colab": {
          "base_uri": "https://localhost:8080/",
          "height": 1000
        }
      },
      "source": [
        "# source: https://github.com/eraclitux/machine-learning-netflow/blob/master/machinelearning-netflow.ipynb\n",
        "# plot traffic volume vs destination port\n",
        "\n",
        "def trafficDestination(df):\n",
        "    scale_factor = 0.2\n",
        "    alfa = 0.4\n",
        "    plt.xlabel('Dest. Port')\n",
        "    plt.ylabel('Total bytes')\n",
        "\n",
        "    df['Dport'] = df['Dport'].astype(str)\n",
        "    # df['Load'] = df['Load'].astype(int)\n",
        "    # pd.options.display.float_format = '{:,.0f}'.format\n",
        "    # df['Load'] = df['Load'].astype(int)\n",
        "    # df['Load'] = df['Load'].astype(bytes)\n",
        "    # SMTP label\n",
        "    x, y = df[df['Label']=='flow=normal']['Dport'], df[df['Label']=='flow=normal']['TotBytes']\n",
        "    print(x,y)\n",
        "    df_normal_load = df[df['Label']=='flow=normal']['Load']\n",
        "    df_bot_load = df[df['Label']=='flow=bot']['Load']\n",
        "    print(\"squart\", np.sqrt(df_normal_load), np.sqrt(df_bot_load))\n",
        "    scale = scale_factor * np.sqrt(df_normal_load)\n",
        "    print(\"scale normal\", scale)\n",
        "    plt.scatter(x, y, c='green', label='Normal',s=scale,\n",
        "                alpha=alfa, \n",
        "                edgecolors='black',\n",
        "    )\n",
        "\n",
        "    x, y = df[df['Label']=='flow=bot']['Dport'], df[df['Label']=='flow=bot']['TotBytes']\n",
        "    scale = scale_factor * np.sqrt(df_bot_load)\n",
        "    print(\"scale bot\", scale)\n",
        "    plt.scatter(x, y, c='red', label='Bot',s=scale,\n",
        "                alpha=alfa, \n",
        "                edgecolors='black',\n",
        "    )\n",
        "\n",
        "\n",
        "    plt.title('Traffic volume vs dest. port\\ndot\\'s size is proportional to load')\n",
        "\n",
        "    plt.legend()\n",
        "    plt.xlim([0,22000])\n",
        "    plt.show()\n",
        "\n",
        "trafficDestination(df_day_three)"
      ],
      "execution_count": 0,
      "outputs": [
        {
          "output_type": "stream",
          "text": [
            "2      iscsi-target\n",
            "3             pop3s\n",
            "5              http\n",
            "6              5000\n",
            "7              5000\n",
            "           ...     \n",
            "612             443\n",
            "613           https\n",
            "614            snmp\n",
            "615           https\n",
            "616            snmp\n",
            "Name: Dport, Length: 599, dtype: object 2      266704\n",
            "3          60\n",
            "5         463\n",
            "6         168\n",
            "7        9387\n",
            "        ...  \n",
            "612       959\n",
            "613       430\n",
            "614       189\n",
            "615      4603\n",
            "616       250\n",
            "Name: TotBytes, Length: 599, dtype: int64\n",
            "squart 2     681\n",
            "3       0\n",
            "5       0\n",
            "6      64\n",
            "7     329\n",
            "       ..\n",
            "612   165\n",
            "613   191\n",
            "614     0\n",
            "615   629\n",
            "616     0\n",
            "Name: Load, Length: 599, dtype: float64 4      2,665\n",
            "19    18,330\n",
            "62        44\n",
            "85     2,767\n",
            "149       85\n",
            "172    2,745\n",
            "257    2,784\n",
            "289        0\n",
            "326    2,617\n",
            "354        0\n",
            "388    3,885\n",
            "466    3,885\n",
            "543    2,850\n",
            "554    3,834\n",
            "581        0\n",
            "Name: Load, dtype: float64\n",
            "scale normal 2     136\n",
            "3       0\n",
            "5       0\n",
            "6      13\n",
            "7      66\n",
            "       ..\n",
            "612    33\n",
            "613    38\n",
            "614     0\n",
            "615   126\n",
            "616     0\n",
            "Name: Load, Length: 599, dtype: float64\n",
            "scale bot 4       533\n",
            "19    3,666\n",
            "62        9\n",
            "85      553\n",
            "149      17\n",
            "172     549\n",
            "257     557\n",
            "289       0\n",
            "326     523\n",
            "354       0\n",
            "388     777\n",
            "466     777\n",
            "543     570\n",
            "554     767\n",
            "581       0\n",
            "Name: Load, dtype: float64\n"
          ],
          "name": "stdout"
        },
        {
          "output_type": "display_data",
          "data": {
            "image/png": "[encoded data removed]",
            "text/plain": [
              "<Figure size 432x288 with 1 Axes>"
            ]
          },
          "metadata": {
            "tags": [],
            "needs_background": "light"
          }
        }
      ]
    },
    {
      "cell_type": "markdown",
      "metadata": {
        "id": "MMBNUS9mdqEY",
        "colab_type": "text"
      },
      "source": [
        "Classification"
      ]
    },
    {
      "cell_type": "code",
      "metadata": {
        "id": "JNMdcQ8Sge7W",
        "colab_type": "code",
        "outputId": "16488526-97f2-42fd-b0b8-4c43e33cda96",
        "colab": {
          "base_uri": "https://localhost:8080/",
          "height": 173
        }
      },
      "source": [
        "df_total.dtypes\n",
        "\n",
        "# df_total\n"
      ],
      "execution_count": 0,
      "outputs": [
        {
          "output_type": "execute_result",
          "data": {
            "text/plain": [
              "Proto        object\n",
              "SrcAddr      object\n",
              "DstAddr      object\n",
              "Dport        object\n",
              "TotPkts       int64\n",
              "TotBytes      int64\n",
              "Load        float64\n",
              "Label        object\n",
              "dtype: object"
            ]
          },
          "metadata": {
            "tags": []
          },
          "execution_count": 59
        }
      ]
    },
    {
      "cell_type": "code",
      "metadata": {
        "id": "ityRSqCodUDR",
        "colab_type": "code",
        "colab": {}
      },
      "source": [
        "# drop unused features and get numerical data and labels\n",
        "\n",
        "df1 = df_total.drop(['SrcAddr', 'DstAddr', 'Dport', 'Proto'], axis=1)\n",
        "\n",
        "# obtain the features and the label\n",
        "# Get the location of label \n",
        "label_index=df1.columns.get_loc(\"Label\")\n",
        "X, y = df1.iloc[:, :label_index].astype(float).values, df1.iloc[:, label_index].values"
      ],
      "execution_count": 0,
      "outputs": []
    },
    {
      "cell_type": "code",
      "metadata": {
        "id": "rJFMXlXJ6dQb",
        "colab_type": "code",
        "outputId": "90f2054b-8bdf-4a3b-f66f-b1eb43f766aa",
        "colab": {
          "base_uri": "https://localhost:8080/",
          "height": 52
        }
      },
      "source": [
        "X_features = pd.DataFrame(df1.iloc[:, :label_index])\n",
        "print(\"Classification features:\", X_features.columns)\n",
        "y_labels = pd.DataFrame(df1.iloc[:, label_index])\n",
        "print(\"Classification targets:\", y_labels.columns)"
      ],
      "execution_count": 0,
      "outputs": [
        {
          "output_type": "stream",
          "text": [
            "Classification features: Index(['TotPkts', 'TotBytes', 'Load'], dtype='object')\n",
            "Classification targets: Index(['Label'], dtype='object')\n"
          ],
          "name": "stdout"
        }
      ]
    },
    {
      "cell_type": "code",
      "metadata": {
        "id": "RQB3jO49dt_7",
        "colab_type": "code",
        "colab": {}
      },
      "source": [
        "# Split the dataset into two disjoint set Train (80%) and Test (20%)\n",
        "X_train, X_test, y_train, y_test= train_test_split(X, y,test_size=0.2 )"
      ],
      "execution_count": 0,
      "outputs": []
    },
    {
      "cell_type": "code",
      "metadata": {
        "id": "rgoApQuwduth",
        "colab_type": "code",
        "outputId": "a01cb357-aeed-4d7d-efad-fb62908b3990",
        "colab": {
          "base_uri": "https://localhost:8080/",
          "height": 139
        }
      },
      "source": [
        "print(X_train)"
      ],
      "execution_count": 0,
      "outputs": [
        {
          "output_type": "stream",
          "text": [
            "[[2.00000000e+00 4.19000000e+02 0.00000000e+00]\n",
            " [1.40000000e+01 5.19500000e+03 2.19190219e+05]\n",
            " [2.00000000e+00 1.48000000e+02 0.00000000e+00]\n",
            " ...\n",
            " [2.00000000e+00 1.48000000e+02 0.00000000e+00]\n",
            " [2.00000000e+00 1.79000000e+02 0.00000000e+00]\n",
            " [2.00000000e+00 1.87000000e+02 0.00000000e+00]]\n"
          ],
          "name": "stdout"
        }
      ]
    },
    {
      "cell_type": "code",
      "metadata": {
        "id": "G9L35X4Gdwtg",
        "colab_type": "code",
        "outputId": "2d9dd9cf-275d-4974-ce53-63f42f2e41ab",
        "colab": {
          "base_uri": "https://localhost:8080/",
          "height": 69
        }
      },
      "source": [
        "# Train the model \n",
        "# Here, we need to train the model by providing data and corresponding labels.\n",
        "# pipe_clf = Pipeline([('scl', StandardScaler()), ('clf',DecisionTreeClassifier())])\n",
        "\n",
        "pipe_clf = Pipeline([('scl', StandardScaler()), ('clf',GaussianNB())])\n",
        "pipe_clf.fit(X_train, y_train)\n",
        "pred = pipe_clf.predict(X_train)\n",
        "cfm=metrics.confusion_matrix(y_train, pred)\n",
        "print('Train confusion matrix: \\n', cfm)"
      ],
      "execution_count": 0,
      "outputs": [
        {
          "output_type": "stream",
          "text": [
            "Train confusion matrix: \n",
            " [[  26   13]\n",
            " [   4 1717]]\n"
          ],
          "name": "stdout"
        }
      ]
    },
    {
      "cell_type": "code",
      "metadata": {
        "id": "3Yo6LTVGdzCg",
        "colab_type": "code",
        "outputId": "6820a879-2c13-4d21-88b3-cfc3d776ef6c",
        "colab": {
          "base_uri": "https://localhost:8080/",
          "height": 260
        }
      },
      "source": [
        "\t# Test and evaluation\n",
        "\tpred = pipe_clf.predict(X_test)\n",
        "\n",
        "\tscore = metrics.accuracy_score(y_test, pred)\n",
        "\tprint(\"accuracy:   %0.3f\" % score)\n",
        "\n",
        "\tprint(\"test confusion matrix:\")\n",
        "\tcfm=metrics.confusion_matrix(y_test, pred)\n",
        "\tprint(cfm)\n",
        "\n",
        "\tprint(\"classification report:\")\n",
        "\tclassificationReport = classification_report(y_true=y_test, y_pred=pred)\n",
        "\tprint (classificationReport)"
      ],
      "execution_count": 0,
      "outputs": [
        {
          "output_type": "stream",
          "text": [
            "accuracy:   0.993\n",
            "test confusion matrix:\n",
            "[[  8   3]\n",
            " [  0 429]]\n",
            "classification report:\n",
            "              precision    recall  f1-score   support\n",
            "\n",
            "    flow=bot       1.00      0.73      0.84        11\n",
            " flow=normal       0.99      1.00      1.00       429\n",
            "\n",
            "    accuracy                           0.99       440\n",
            "   macro avg       1.00      0.86      0.92       440\n",
            "weighted avg       0.99      0.99      0.99       440\n",
            "\n"
          ],
          "name": "stdout"
        }
      ]
    },
    {
      "cell_type": "code",
      "metadata": {
        "id": "op0XDl9nd1L5",
        "colab_type": "code",
        "colab": {}
      },
      "source": [
        ""
      ],
      "execution_count": 0,
      "outputs": []
    }
  ]
}